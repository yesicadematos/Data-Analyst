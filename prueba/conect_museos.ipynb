{
 "cells": [
  {
   "cell_type": "code",
   "execution_count": 3,
   "metadata": {},
   "outputs": [],
   "source": [
    "import sqlalchemy as sa\n",
    "import urllib \n",
    "import pandas as pd \n",
    "import psycopg2\n",
    "from sqlalchemy import text\n",
    "from conector import enginok"
   ]
  },
  {
   "cell_type": "markdown",
   "metadata": {},
   "source": [
    "Leemos el .csv/museos para la creacion y normalizacion de la misma"
   ]
  },
  {
   "cell_type": "code",
   "execution_count": 4,
   "metadata": {},
   "outputs": [
    {
     "data": {
      "text/html": [
       "<div>\n",
       "<style scoped>\n",
       "    .dataframe tbody tr th:only-of-type {\n",
       "        vertical-align: middle;\n",
       "    }\n",
       "\n",
       "    .dataframe tbody tr th {\n",
       "        vertical-align: top;\n",
       "    }\n",
       "\n",
       "    .dataframe thead th {\n",
       "        text-align: right;\n",
       "    }\n",
       "</style>\n",
       "<table border=\"1\" class=\"dataframe\">\n",
       "  <thead>\n",
       "    <tr style=\"text-align: right;\">\n",
       "      <th></th>\n",
       "      <th>Cod_Loc</th>\n",
       "      <th>IdProvincia</th>\n",
       "      <th>IdDepartamento</th>\n",
       "      <th>Observaciones</th>\n",
       "      <th>categoria</th>\n",
       "      <th>subcategoria</th>\n",
       "      <th>provincia</th>\n",
       "      <th>localidad</th>\n",
       "      <th>nombre</th>\n",
       "      <th>direccion</th>\n",
       "      <th>...</th>\n",
       "      <th>Mail</th>\n",
       "      <th>Web</th>\n",
       "      <th>Latitud</th>\n",
       "      <th>Longitud</th>\n",
       "      <th>TipoLatitudLongitud</th>\n",
       "      <th>Info_adicional</th>\n",
       "      <th>fuente</th>\n",
       "      <th>jurisdiccion</th>\n",
       "      <th>aÃ±o_inauguracion</th>\n",
       "      <th>actualizacion</th>\n",
       "    </tr>\n",
       "  </thead>\n",
       "  <tbody>\n",
       "    <tr>\n",
       "      <th>702</th>\n",
       "      <td>46112010</td>\n",
       "      <td>46</td>\n",
       "      <td>46112</td>\n",
       "      <td>NaN</td>\n",
       "      <td>Espacios de ExhibiciÃ³n Patrimonial</td>\n",
       "      <td>Museos</td>\n",
       "      <td>La Rioja</td>\n",
       "      <td>Villa Chepes</td>\n",
       "      <td>Museo De Los Caudillos Ãngel Nardillo</td>\n",
       "      <td>9 de Julio, Esquina Sarmiento</td>\n",
       "      <td>...</td>\n",
       "      <td>NaN</td>\n",
       "      <td>NaN</td>\n",
       "      <td>-31.341160</td>\n",
       "      <td>-66.592516</td>\n",
       "      <td>LocalizaciÃ³n precisa</td>\n",
       "      <td>NaN</td>\n",
       "      <td>DNPyM</td>\n",
       "      <td>Municipal</td>\n",
       "      <td>NaN</td>\n",
       "      <td>2017</td>\n",
       "    </tr>\n",
       "    <tr>\n",
       "      <th>726</th>\n",
       "      <td>50070060</td>\n",
       "      <td>50</td>\n",
       "      <td>50070</td>\n",
       "      <td>NaN</td>\n",
       "      <td>Espacios de ExhibiciÃ³n Patrimonial</td>\n",
       "      <td>Museos</td>\n",
       "      <td>Mendoza</td>\n",
       "      <td>MaipÃº</td>\n",
       "      <td>Museo Municipal Kakel Huincul</td>\n",
       "      <td>Belgrano 349</td>\n",
       "      <td>...</td>\n",
       "      <td>culturamaipu@infovia.com.ar</td>\n",
       "      <td>NaN</td>\n",
       "      <td>-36.863451</td>\n",
       "      <td>-57.885064</td>\n",
       "      <td>LocalizaciÃ³n precisa</td>\n",
       "      <td>NaN</td>\n",
       "      <td>DNPyM</td>\n",
       "      <td>Municipal</td>\n",
       "      <td>2005.0</td>\n",
       "      <td>2017</td>\n",
       "    </tr>\n",
       "  </tbody>\n",
       "</table>\n",
       "<p>2 rows × 24 columns</p>\n",
       "</div>"
      ],
      "text/plain": [
       "      Cod_Loc  IdProvincia  IdDepartamento  Observaciones  \\\n",
       "702  46112010           46           46112            NaN   \n",
       "726  50070060           50           50070            NaN   \n",
       "\n",
       "                               categoria subcategoria provincia     localidad  \\\n",
       "702  Espacios de ExhibiciÃ³n Patrimonial       Museos  La Rioja  Villa Chepes   \n",
       "726  Espacios de ExhibiciÃ³n Patrimonial       Museos   Mendoza        MaipÃº   \n",
       "\n",
       "                                     nombre                      direccion  \\\n",
       "702  Museo De Los Caudillos Ãngel Nardillo  9 de Julio, Esquina Sarmiento   \n",
       "726           Museo Municipal Kakel Huincul                   Belgrano 349   \n",
       "\n",
       "     ...                         Mail  Web    Latitud   Longitud  \\\n",
       "702  ...                          NaN  NaN -31.341160 -66.592516   \n",
       "726  ...  culturamaipu@infovia.com.ar  NaN -36.863451 -57.885064   \n",
       "\n",
       "       TipoLatitudLongitud Info_adicional  fuente  jurisdiccion  \\\n",
       "702  LocalizaciÃ³n precisa            NaN   DNPyM     Municipal   \n",
       "726  LocalizaciÃ³n precisa            NaN   DNPyM     Municipal   \n",
       "\n",
       "    aÃ±o_inauguracion actualizacion  \n",
       "702               NaN          2017  \n",
       "726            2005.0          2017  \n",
       "\n",
       "[2 rows x 24 columns]"
      ]
     },
     "execution_count": 4,
     "metadata": {},
     "output_type": "execute_result"
    }
   ],
   "source": [
    "dataM = pd.read_csv(\"./museos.csv\", encoding='UTF-8')\n",
    "df_Museos = pd.DataFrame(dataM)\n",
    "df_Museos.sample(2)"
   ]
  },
  {
   "cell_type": "markdown",
   "metadata": {},
   "source": [
    "CREAR UN ID UNICO UTILIZANDO EL INICE."
   ]
  },
  {
   "cell_type": "code",
   "execution_count": 5,
   "metadata": {},
   "outputs": [
    {
     "data": {
      "text/html": [
       "<div>\n",
       "<style scoped>\n",
       "    .dataframe tbody tr th:only-of-type {\n",
       "        vertical-align: middle;\n",
       "    }\n",
       "\n",
       "    .dataframe tbody tr th {\n",
       "        vertical-align: top;\n",
       "    }\n",
       "\n",
       "    .dataframe thead th {\n",
       "        text-align: right;\n",
       "    }\n",
       "</style>\n",
       "<table border=\"1\" class=\"dataframe\">\n",
       "  <thead>\n",
       "    <tr style=\"text-align: right;\">\n",
       "      <th></th>\n",
       "      <th>Cod_Loc</th>\n",
       "      <th>IdProvincia</th>\n",
       "      <th>IdDepartamento</th>\n",
       "      <th>Observaciones</th>\n",
       "      <th>categoria</th>\n",
       "      <th>subcategoria</th>\n",
       "      <th>provincia</th>\n",
       "      <th>localidad</th>\n",
       "      <th>nombre</th>\n",
       "      <th>direccion</th>\n",
       "      <th>...</th>\n",
       "      <th>Web</th>\n",
       "      <th>Latitud</th>\n",
       "      <th>Longitud</th>\n",
       "      <th>TipoLatitudLongitud</th>\n",
       "      <th>Info_adicional</th>\n",
       "      <th>fuente</th>\n",
       "      <th>jurisdiccion</th>\n",
       "      <th>aÃ±o_inauguracion</th>\n",
       "      <th>actualizacion</th>\n",
       "      <th>Id</th>\n",
       "    </tr>\n",
       "  </thead>\n",
       "  <tbody>\n",
       "    <tr>\n",
       "      <th>514</th>\n",
       "      <td>14014010</td>\n",
       "      <td>14</td>\n",
       "      <td>14014</td>\n",
       "      <td>NaN</td>\n",
       "      <td>Espacios de ExhibiciÃ³n Patrimonial</td>\n",
       "      <td>NaN</td>\n",
       "      <td>CÃ³rdoba</td>\n",
       "      <td>Cordoba</td>\n",
       "      <td>Museo de ZoologÃ­a, Academia de ciencias</td>\n",
       "      <td>VÃ©lez SÃ¡rsfield 249</td>\n",
       "      <td>...</td>\n",
       "      <td>NaN</td>\n",
       "      <td>-31.418144</td>\n",
       "      <td>-64.187804</td>\n",
       "      <td>LocalizaciÃ³n precisa</td>\n",
       "      <td>NaN</td>\n",
       "      <td>RCC- CÃ³rdoba</td>\n",
       "      <td>Municipal</td>\n",
       "      <td>0.0</td>\n",
       "      <td>2017</td>\n",
       "      <td>514M</td>\n",
       "    </tr>\n",
       "  </tbody>\n",
       "</table>\n",
       "<p>1 rows × 25 columns</p>\n",
       "</div>"
      ],
      "text/plain": [
       "      Cod_Loc  IdProvincia  IdDepartamento  Observaciones  \\\n",
       "514  14014010           14           14014            NaN   \n",
       "\n",
       "                               categoria subcategoria provincia localidad  \\\n",
       "514  Espacios de ExhibiciÃ³n Patrimonial          NaN  CÃ³rdoba   Cordoba   \n",
       "\n",
       "                                       nombre              direccion  ...  \\\n",
       "514  Museo de ZoologÃ­a, Academia de ciencias  VÃ©lez SÃ¡rsfield 249  ...   \n",
       "\n",
       "     Web    Latitud   Longitud    TipoLatitudLongitud Info_adicional  \\\n",
       "514  NaN -31.418144 -64.187804  LocalizaciÃ³n precisa            NaN   \n",
       "\n",
       "            fuente  jurisdiccion  aÃ±o_inauguracion actualizacion    Id  \n",
       "514  RCC- CÃ³rdoba     Municipal                0.0          2017  514M  \n",
       "\n",
       "[1 rows x 25 columns]"
      ]
     },
     "execution_count": 5,
     "metadata": {},
     "output_type": "execute_result"
    }
   ],
   "source": [
    "df_Museos['Id']=df_Museos.index\n",
    "df_Museos['Id']=df_Museos['Id'].astype(str)\n",
    "df_Museos['Id']=df_Museos['Id']+'M'\n",
    "df_Museos.sample()"
   ]
  },
  {
   "cell_type": "markdown",
   "metadata": {},
   "source": [
    "**RENOMBRAR Y ORDENAR COLUMBNAS**"
   ]
  },
  {
   "cell_type": "code",
   "execution_count": 6,
   "metadata": {},
   "outputs": [],
   "source": [
    "df_Museos.rename({'aÃ±o_inauguracion':'Ano_inauguracion','actualizacion':'Ano_actualizacion',\n",
    "'direccion':'Direccion','provincia':'Provincia', 'fuente':'Fuente', 'categoria':'Categoria','Observaciones':'Observacion','nombre':'Nombre',\n",
    "'piso':'Piso','cod_area':'Cod_tel','telefono':'Telefono','jurisdiccion':'Jurisdiccion','localidad':'Localidad'},\n",
    "axis=1, inplace=True)"
   ]
  },
  {
   "cell_type": "code",
   "execution_count": 7,
   "metadata": {},
   "outputs": [],
   "source": [
    "df_Museos.drop(['Provincia','Localidad','IdDepartamento','CP', 'Cod_tel','IdProvincia',],axis=1,inplace=True)"
   ]
  },
  {
   "cell_type": "code",
   "execution_count": 8,
   "metadata": {},
   "outputs": [],
   "source": [
    "df_Museos=df_Museos[['Id', 'Cod_Loc','Nombre','Categoria', 'subcategoria',\n",
    "       'Direccion', 'Observacion','Piso',  'Web' , 'Info_adicional',\n",
    "       'Telefono', 'Mail', 'Latitud', 'Longitud', 'TipoLatitudLongitud',\n",
    "       'Fuente', 'Jurisdiccion', 'Ano_inauguracion', 'Ano_actualizacion']]    "
   ]
  },
  {
   "cell_type": "markdown",
   "metadata": {},
   "source": [
    "**IMPORTACION DE TIPOS DE DATOS QUE UTILIZARE PARA CREAR LA TABLA SIGUIENTE**"
   ]
  },
  {
   "cell_type": "code",
   "execution_count": 9,
   "metadata": {},
   "outputs": [],
   "source": [
    "from sqlalchemy.types import VARCHAR \n",
    "from sqlalchemy.types import INTEGER\n",
    "from sqlalchemy.types import Text\n",
    "from sqlalchemy.types import NUMERIC"
   ]
  },
  {
   "cell_type": "markdown",
   "metadata": {},
   "source": [
    "**CRAER TABLA \"Museos\"**"
   ]
  },
  {
   "cell_type": "code",
   "execution_count": 10,
   "metadata": {},
   "outputs": [
    {
     "data": {
      "text/plain": [
       "182"
      ]
     },
     "execution_count": 10,
     "metadata": {},
     "output_type": "execute_result"
    }
   ],
   "source": [
    "df_Museos.to_sql('MUSEOS', con=enginok, if_exists='replace', index=False,\n",
    "          dtype={\"Id\":VARCHAR,\"Cod_Loc\": INTEGER, \"Categoria\":Text,\"subcategoria\":Text,\n",
    "          \"Observacion\":Text, \"Nombre\":Text, \"Telefono\":VARCHAR(200) , \"Mail\": VARCHAR(200),\n",
    "          \"Web\":VARCHAR,  \"Info_adicional\":Text, \"Fuente\":VARCHAR(200), 'Latitud':NUMERIC, 'Longitud':NUMERIC, 'TipoLatitudLongitud':Text,\n",
    "          \"Jurisdiccion\":VARCHAR(200) , \"Ano_inauguracion\":INTEGER, \"Ano_actualizacion\":INTEGER})"
   ]
  },
  {
   "cell_type": "code",
   "execution_count": 11,
   "metadata": {},
   "outputs": [
    {
     "data": {
      "text/html": [
       "<div>\n",
       "<style scoped>\n",
       "    .dataframe tbody tr th:only-of-type {\n",
       "        vertical-align: middle;\n",
       "    }\n",
       "\n",
       "    .dataframe tbody tr th {\n",
       "        vertical-align: top;\n",
       "    }\n",
       "\n",
       "    .dataframe thead th {\n",
       "        text-align: right;\n",
       "    }\n",
       "</style>\n",
       "<table border=\"1\" class=\"dataframe\">\n",
       "  <thead>\n",
       "    <tr style=\"text-align: right;\">\n",
       "      <th></th>\n",
       "    </tr>\n",
       "  </thead>\n",
       "  <tbody>\n",
       "  </tbody>\n",
       "</table>\n",
       "</div>"
      ],
      "text/plain": [
       "Empty DataFrame\n",
       "Columns: []\n",
       "Index: []"
      ]
     },
     "execution_count": 11,
     "metadata": {},
     "output_type": "execute_result"
    }
   ],
   "source": [
    "text=(\"\"\"SELECT * FROM \"MUSEOS\"\n",
    "    WHERE \"Cod_Loc\"=86119100\"\"\")\n",
    "\n",
    "\n",
    "muestreo = pd.DataFrame(enginok.execute(text))\n",
    "muestreo.head(2)\n"
   ]
  },
  {
   "cell_type": "markdown",
   "metadata": {},
   "source": [
    "creando llave Primaria de la tabla Museos"
   ]
  },
  {
   "cell_type": "code",
   "execution_count": 12,
   "metadata": {},
   "outputs": [
    {
     "data": {
      "text/plain": [
       "<sqlalchemy.engine.cursor.LegacyCursorResult at 0x25ed6bbfa60>"
      ]
     },
     "execution_count": 12,
     "metadata": {},
     "output_type": "execute_result"
    }
   ],
   "source": [
    "text=(\"\"\"ALTER TABLE \"MUSEOS\" ADD PRIMARY KEY (\"Id\");\"\"\") \n",
    "enginok.execute(text)"
   ]
  },
  {
   "cell_type": "markdown",
   "metadata": {},
   "source": [
    "Relacines correspondientes 'FOREIGN KEY'"
   ]
  },
  {
   "cell_type": "code",
   "execution_count": 14,
   "metadata": {},
   "outputs": [
    {
     "data": {
      "text/plain": [
       "<sqlalchemy.engine.cursor.LegacyCursorResult at 0x25ee3c4cee0>"
      ]
     },
     "execution_count": 14,
     "metadata": {},
     "output_type": "execute_result"
    }
   ],
   "source": [
    "text=(\"\"\"ALTER TABLE  \"MUSEOS\"\n",
    "ADD FOREIGN KEY ( \"Cod_Loc\") REFERENCES \"Localidad\" (\"Cod_Loc\") ;\"\"\")\n",
    "enginok.execute(text)\n",
    " "
   ]
  }
 ],
 "metadata": {
  "kernelspec": {
   "display_name": "Python 3.9.13 64-bit (system)",
   "language": "python",
   "name": "python3"
  },
  "language_info": {
   "codemirror_mode": {
    "name": "ipython",
    "version": 3
   },
   "file_extension": ".py",
   "mimetype": "text/x-python",
   "name": "python",
   "nbconvert_exporter": "python",
   "pygments_lexer": "ipython3",
   "version": "3.9.13"
  },
  "orig_nbformat": 4,
  "vscode": {
   "interpreter": {
    "hash": "786372040b23cbb4630f48942a042c104d35cdf8edd26785d86db41bdbab43e0"
   }
  }
 },
 "nbformat": 4,
 "nbformat_minor": 2
}
