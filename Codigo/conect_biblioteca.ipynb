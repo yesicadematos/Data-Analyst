{
 "cells": [
  {
   "cell_type": "code",
   "execution_count": 1,
   "metadata": {},
   "outputs": [],
   "source": [
    "import sqlalchemy as sa\n",
    "import urllib \n",
    "import pandas as pd \n",
    "import psycopg2\n",
    "from sqlalchemy import text\n",
    "from conector import enginok"
   ]
  },
  {
   "cell_type": "markdown",
   "metadata": {},
   "source": [
    "***LECTURA DE ARCHIVO.CSV Y CREAMOS EL DATAFRAME PARA TRABAJAR SOBRE EL MISMO***"
   ]
  },
  {
   "cell_type": "code",
   "execution_count": 3,
   "metadata": {},
   "outputs": [
    {
     "data": {
      "text/html": [
       "<div>\n",
       "<style scoped>\n",
       "    .dataframe tbody tr th:only-of-type {\n",
       "        vertical-align: middle;\n",
       "    }\n",
       "\n",
       "    .dataframe tbody tr th {\n",
       "        vertical-align: top;\n",
       "    }\n",
       "\n",
       "    .dataframe thead th {\n",
       "        text-align: right;\n",
       "    }\n",
       "</style>\n",
       "<table border=\"1\" class=\"dataframe\">\n",
       "  <thead>\n",
       "    <tr style=\"text-align: right;\">\n",
       "      <th></th>\n",
       "      <th>Cod_Loc</th>\n",
       "      <th>IdProvincia</th>\n",
       "      <th>IdDepartamento</th>\n",
       "      <th>Observacion</th>\n",
       "      <th>CategorÃ­a</th>\n",
       "      <th>Subcategoria</th>\n",
       "      <th>Provincia</th>\n",
       "      <th>Departamento</th>\n",
       "      <th>Localidad</th>\n",
       "      <th>Nombre</th>\n",
       "      <th>...</th>\n",
       "      <th>Mail</th>\n",
       "      <th>Web</th>\n",
       "      <th>InformaciÃ³n adicional</th>\n",
       "      <th>Latitud</th>\n",
       "      <th>Longitud</th>\n",
       "      <th>TipoLatitudLongitud</th>\n",
       "      <th>Fuente</th>\n",
       "      <th>Tipo_gestion</th>\n",
       "      <th>aÃ±o_inicio</th>\n",
       "      <th>AÃ±o_actualizacion</th>\n",
       "    </tr>\n",
       "  </thead>\n",
       "  <tbody>\n",
       "    <tr>\n",
       "      <th>1895</th>\n",
       "      <td>26035030</td>\n",
       "      <td>26</td>\n",
       "      <td>26035</td>\n",
       "      <td>NaN</td>\n",
       "      <td>Bibliotecas Populares</td>\n",
       "      <td>NaN</td>\n",
       "      <td>Chubut</td>\n",
       "      <td>Futaleufu</td>\n",
       "      <td>Esquel</td>\n",
       "      <td>Biblioteca Popular TolkeyÃ©n</td>\n",
       "      <td>...</td>\n",
       "      <td>bibliotecatolkeyen@yahoo.com.ar</td>\n",
       "      <td>NaN</td>\n",
       "      <td>NaN</td>\n",
       "      <td>-42.914574</td>\n",
       "      <td>-71.302231</td>\n",
       "      <td>LocalizaciÃ³n precisa</td>\n",
       "      <td>CONABIP</td>\n",
       "      <td>Comunitaria</td>\n",
       "      <td>2007.0</td>\n",
       "      <td>2018</td>\n",
       "    </tr>\n",
       "    <tr>\n",
       "      <th>223</th>\n",
       "      <td>38028040</td>\n",
       "      <td>38</td>\n",
       "      <td>38028</td>\n",
       "      <td>NaN</td>\n",
       "      <td>Bibliotecas Populares</td>\n",
       "      <td>NaN</td>\n",
       "      <td>Jujuy</td>\n",
       "      <td>Humahuaca</td>\n",
       "      <td>Humahuaca</td>\n",
       "      <td>Biblioteca Popular General BartolomÃ© Mitre</td>\n",
       "      <td>...</td>\n",
       "      <td>bib.mitre@yahoo.com.ar</td>\n",
       "      <td>NaN</td>\n",
       "      <td>NaN</td>\n",
       "      <td>-23.205767</td>\n",
       "      <td>-65.348417</td>\n",
       "      <td>LocalizaciÃ³n precisa</td>\n",
       "      <td>CONABIP</td>\n",
       "      <td>Comunitaria</td>\n",
       "      <td>1906.0</td>\n",
       "      <td>2018</td>\n",
       "    </tr>\n",
       "  </tbody>\n",
       "</table>\n",
       "<p>2 rows × 25 columns</p>\n",
       "</div>"
      ],
      "text/plain": [
       "       Cod_Loc  IdProvincia  IdDepartamento  Observacion  \\\n",
       "1895  26035030           26           26035          NaN   \n",
       "223   38028040           38           38028          NaN   \n",
       "\n",
       "                 CategorÃ­a  Subcategoria Provincia Departamento  Localidad  \\\n",
       "1895  Bibliotecas Populares           NaN    Chubut    Futaleufu     Esquel   \n",
       "223   Bibliotecas Populares           NaN     Jujuy    Humahuaca  Humahuaca   \n",
       "\n",
       "                                           Nombre  ...  \\\n",
       "1895                 Biblioteca Popular TolkeyÃ©n  ...   \n",
       "223   Biblioteca Popular General BartolomÃ© Mitre  ...   \n",
       "\n",
       "                                 Mail  Web InformaciÃ³n adicional    Latitud  \\\n",
       "1895  bibliotecatolkeyen@yahoo.com.ar  NaN                    NaN -42.914574   \n",
       "223            bib.mitre@yahoo.com.ar  NaN                    NaN -23.205767   \n",
       "\n",
       "       Longitud    TipoLatitudLongitud   Fuente  Tipo_gestion  aÃ±o_inicio  \\\n",
       "1895 -71.302231  LocalizaciÃ³n precisa  CONABIP   Comunitaria       2007.0   \n",
       "223  -65.348417  LocalizaciÃ³n precisa  CONABIP   Comunitaria       1906.0   \n",
       "\n",
       "      AÃ±o_actualizacion  \n",
       "1895                2018  \n",
       "223                 2018  \n",
       "\n",
       "[2 rows x 25 columns]"
      ]
     },
     "execution_count": 3,
     "metadata": {},
     "output_type": "execute_result"
    }
   ],
   "source": [
    "dataB = pd.read_csv('../bibliotecas/Aug-2022/22-08-2022 Bibliotecas.csv')\n",
    "df_Biblioteca = pd.DataFrame(dataB)\n",
    "df_Biblioteca.sample(2)"
   ]
  },
  {
   "cell_type": "markdown",
   "metadata": {},
   "source": [
    "CREAR UN ID UNICO UTILIZANDO EL INICE."
   ]
  },
  {
   "cell_type": "code",
   "execution_count": 28,
   "metadata": {},
   "outputs": [
    {
     "data": {
      "text/html": [
       "<div>\n",
       "<style scoped>\n",
       "    .dataframe tbody tr th:only-of-type {\n",
       "        vertical-align: middle;\n",
       "    }\n",
       "\n",
       "    .dataframe tbody tr th {\n",
       "        vertical-align: top;\n",
       "    }\n",
       "\n",
       "    .dataframe thead th {\n",
       "        text-align: right;\n",
       "    }\n",
       "</style>\n",
       "<table border=\"1\" class=\"dataframe\">\n",
       "  <thead>\n",
       "    <tr style=\"text-align: right;\">\n",
       "      <th></th>\n",
       "      <th>Cod_Loc</th>\n",
       "      <th>IdProvincia</th>\n",
       "      <th>IdDepartamento</th>\n",
       "      <th>Observacion</th>\n",
       "      <th>CategorÃ­a</th>\n",
       "      <th>Subcategoria</th>\n",
       "      <th>Provincia</th>\n",
       "      <th>Departamento</th>\n",
       "      <th>Localidad</th>\n",
       "      <th>Nombre</th>\n",
       "      <th>...</th>\n",
       "      <th>Web</th>\n",
       "      <th>InformaciÃ³n adicional</th>\n",
       "      <th>Latitud</th>\n",
       "      <th>Longitud</th>\n",
       "      <th>TipoLatitudLongitud</th>\n",
       "      <th>Fuente</th>\n",
       "      <th>Tipo_gestion</th>\n",
       "      <th>aÃ±o_inicio</th>\n",
       "      <th>AÃ±o_actualizacion</th>\n",
       "      <th>Id</th>\n",
       "    </tr>\n",
       "  </thead>\n",
       "  <tbody>\n",
       "    <tr>\n",
       "      <th>1621</th>\n",
       "      <td>26014020</td>\n",
       "      <td>26</td>\n",
       "      <td>26014</td>\n",
       "      <td>NaN</td>\n",
       "      <td>Bibliotecas Populares</td>\n",
       "      <td>NaN</td>\n",
       "      <td>Chubut</td>\n",
       "      <td>Cushamen</td>\n",
       "      <td>Cholila</td>\n",
       "      <td>Biblioteca Popular Ruca Raqui Zuam</td>\n",
       "      <td>...</td>\n",
       "      <td>NaN</td>\n",
       "      <td>NaN</td>\n",
       "      <td>-42.511866</td>\n",
       "      <td>-71.430016</td>\n",
       "      <td>LocalizaciÃ³n precisa</td>\n",
       "      <td>CONABIP</td>\n",
       "      <td>Comunitaria</td>\n",
       "      <td>1930.0</td>\n",
       "      <td>2018</td>\n",
       "      <td>1621B</td>\n",
       "    </tr>\n",
       "  </tbody>\n",
       "</table>\n",
       "<p>1 rows × 26 columns</p>\n",
       "</div>"
      ],
      "text/plain": [
       "       Cod_Loc  IdProvincia  IdDepartamento  Observacion  \\\n",
       "1621  26014020           26           26014          NaN   \n",
       "\n",
       "                 CategorÃ­a  Subcategoria Provincia Departamento Localidad  \\\n",
       "1621  Bibliotecas Populares           NaN    Chubut     Cushamen   Cholila   \n",
       "\n",
       "                                  Nombre  ... Web  InformaciÃ³n adicional  \\\n",
       "1621  Biblioteca Popular Ruca Raqui Zuam  ... NaN                     NaN   \n",
       "\n",
       "        Latitud   Longitud    TipoLatitudLongitud   Fuente  Tipo_gestion  \\\n",
       "1621 -42.511866 -71.430016  LocalizaciÃ³n precisa  CONABIP   Comunitaria   \n",
       "\n",
       "      aÃ±o_inicio  AÃ±o_actualizacion     Id  \n",
       "1621       1930.0                2018  1621B  \n",
       "\n",
       "[1 rows x 26 columns]"
      ]
     },
     "execution_count": 28,
     "metadata": {},
     "output_type": "execute_result"
    }
   ],
   "source": [
    "df_Biblioteca['Id']=df_Biblioteca.index\n",
    "df_Biblioteca['Id']=df_Biblioteca['Id'].astype(str)\n",
    "df_Biblioteca['Id']=df_Biblioteca['Id']+'B'\n",
    "df_Biblioteca.sample()"
   ]
  },
  {
   "cell_type": "markdown",
   "metadata": {},
   "source": [
    "**RENOMBRAR Y ORDENAR COLUMNAS**"
   ]
  },
  {
   "cell_type": "code",
   "execution_count": 29,
   "metadata": {},
   "outputs": [],
   "source": [
    "df_Biblioteca.rename({'TelÃ©fono':'Telefono','CategorÃ­a':'Categoria','InformaciÃ³n adicional':'Informacion Adicional','aÃ±o_inicio':'Ano_Inicio', 'AÃ±o_actualizacion':'Ano_Actualizacion'},\n",
    "axis=1, inplace=True)"
   ]
  },
  {
   "cell_type": "code",
   "execution_count": 30,
   "metadata": {},
   "outputs": [],
   "source": [
    "df_Biblioteca.drop(['Provincia','Departamento','Localidad','IdDepartamento','CP', 'Cod_tel','IdProvincia',],axis=1,inplace=True)"
   ]
  },
  {
   "cell_type": "code",
   "execution_count": 31,
   "metadata": {},
   "outputs": [],
   "source": [
    "f_Biblioteca=df_Biblioteca[['Id','Cod_Loc',  'Categoria', \n",
    "       'Nombre', 'Domicilio',\n",
    "       'Telefono', 'Mail','Observacion', 'Subcategoria', 'Piso', 'Web', 'Informacion Adicional', 'Latitud', 'Longitud', 'TipoLatitudLongitud',\n",
    "       'Fuente', 'Tipo_gestion', 'Ano_Inicio', 'Ano_Actualizacion',]]"
   ]
  },
  {
   "cell_type": "code",
   "execution_count": 32,
   "metadata": {},
   "outputs": [
    {
     "data": {
      "text/plain": [
       "Cod_Loc                  2017\n",
       "Observacion                 0\n",
       "Categoria                2017\n",
       "Subcategoria                0\n",
       "Nombre                   2017\n",
       "Domicilio                2017\n",
       "Piso                        0\n",
       "Telefono                 2017\n",
       "Mail                     2017\n",
       "Web                         0\n",
       "Informacion Adicional       0\n",
       "Latitud                  2017\n",
       "Longitud                 2017\n",
       "TipoLatitudLongitud      2017\n",
       "Fuente                   2017\n",
       "Tipo_gestion             2017\n",
       "Ano_Inicio               2010\n",
       "Ano_Actualizacion        2017\n",
       "Id                       2017\n",
       "dtype: int64"
      ]
     },
     "execution_count": 32,
     "metadata": {},
     "output_type": "execute_result"
    }
   ],
   "source": [
    "df_Biblioteca.count()"
   ]
  },
  {
   "cell_type": "markdown",
   "metadata": {},
   "source": [
    "**IMPORTACION DE TIPOS DE DATOS QUE UTILIZARE PARA CREAR LA TABLA SIGUIENTE**"
   ]
  },
  {
   "cell_type": "code",
   "execution_count": 33,
   "metadata": {},
   "outputs": [],
   "source": [
    "from sqlalchemy.types import VARCHAR \n",
    "from sqlalchemy.types import INTEGER\n",
    "from sqlalchemy.types import Text\n",
    "from sqlalchemy.types import NUMERIC"
   ]
  },
  {
   "cell_type": "markdown",
   "metadata": {},
   "source": [
    "**CRACION DE TABLA \"Biblioteca\"**"
   ]
  },
  {
   "cell_type": "code",
   "execution_count": 36,
   "metadata": {},
   "outputs": [
    {
     "data": {
      "text/plain": [
       "17"
      ]
     },
     "execution_count": 36,
     "metadata": {},
     "output_type": "execute_result"
    }
   ],
   "source": [
    "df_Biblioteca.to_sql('BIBLIOTECA', con=enginok, if_exists='replace', index=False,\n",
    "          dtype={\"Id\":VARCHAR, \"Cod_Loc\": INTEGER, \n",
    "          \"Categoria\":Text,\"Observacion\":Text, \"Subcategoria\":Text,\"'Informacion Adicional'\":Text,  \n",
    "          \"Nombre\":Text,  \"Telefono\":VARCHAR(100), \"Web\":VARCHAR(100), \"Mail\": VARCHAR(100),\n",
    "          \"Fuente\":VARCHAR(100),'Domicilio':Text,'Piso':Text, \"Latitu\":NUMERIC, 'Longitud':NUMERIC, 'TipoLatitudLongitud':Text,\n",
    "          \"Tipo_gestion\":VARCHAR(100) , \"Ano_inicio\":INTEGER, \"Ano_actualizacion\":INTEGER, })"
   ]
  },
  {
   "cell_type": "code",
   "execution_count": 37,
   "metadata": {},
   "outputs": [
    {
     "data": {
      "text/html": [
       "<div>\n",
       "<style scoped>\n",
       "    .dataframe tbody tr th:only-of-type {\n",
       "        vertical-align: middle;\n",
       "    }\n",
       "\n",
       "    .dataframe tbody tr th {\n",
       "        vertical-align: top;\n",
       "    }\n",
       "\n",
       "    .dataframe thead th {\n",
       "        text-align: right;\n",
       "    }\n",
       "</style>\n",
       "<table border=\"1\" class=\"dataframe\">\n",
       "  <thead>\n",
       "    <tr style=\"text-align: right;\">\n",
       "      <th></th>\n",
       "    </tr>\n",
       "  </thead>\n",
       "  <tbody>\n",
       "  </tbody>\n",
       "</table>\n",
       "</div>"
      ],
      "text/plain": [
       "Empty DataFrame\n",
       "Columns: []\n",
       "Index: []"
      ]
     },
     "execution_count": 37,
     "metadata": {},
     "output_type": "execute_result"
    }
   ],
   "source": [
    "text=(\"\"\"SELECT * FROM \"BIBLIOTECA\"\n",
    "    WHERE \"Cod_Loc\"=86119100\"\"\")\n",
    "\n",
    "muestreo = pd.DataFrame(enginok.execute(text))\n",
    "muestreo.head()\n"
   ]
  },
  {
   "cell_type": "markdown",
   "metadata": {},
   "source": [
    "Llave primaria de la tabla Biblioteca"
   ]
  },
  {
   "cell_type": "code",
   "execution_count": 38,
   "metadata": {},
   "outputs": [
    {
     "data": {
      "text/plain": [
       "<sqlalchemy.engine.cursor.LegacyCursorResult at 0x1f3b9f55a30>"
      ]
     },
     "execution_count": 38,
     "metadata": {},
     "output_type": "execute_result"
    }
   ],
   "source": [
    "text=(\"\"\"ALTER TABLE \"BIBLIOTECA\" ADD PRIMARY KEY (\"Id\");\"\"\")\n",
    "enginok.execute(text)"
   ]
  },
  {
   "cell_type": "markdown",
   "metadata": {},
   "source": [
    "**Creando las relaciones correspondientes 'FOREIGN KEY'**"
   ]
  },
  {
   "cell_type": "code",
   "execution_count": 40,
   "metadata": {},
   "outputs": [
    {
     "data": {
      "text/plain": [
       "<sqlalchemy.engine.cursor.LegacyCursorResult at 0x1f3c06cafa0>"
      ]
     },
     "execution_count": 40,
     "metadata": {},
     "output_type": "execute_result"
    }
   ],
   "source": [
    "text=(\"\"\"ALTER TABLE  \"BIBLIOTECA\"\n",
    "ADD FOREIGN KEY ( \"Cod_Loc\")  REFERENCES \"Localidad\" ( \"Cod_Loc\") ;\"\"\")\n",
    "enginok.execute(text)"
   ]
  }
 ],
 "metadata": {
  "kernelspec": {
   "display_name": "Python 3.9.13 64-bit ('venv': venv)",
   "language": "python",
   "name": "python3"
  },
  "language_info": {
   "codemirror_mode": {
    "name": "ipython",
    "version": 3
   },
   "file_extension": ".py",
   "mimetype": "text/x-python",
   "name": "python",
   "nbconvert_exporter": "python",
   "pygments_lexer": "ipython3",
   "version": "3.9.13"
  },
  "orig_nbformat": 4,
  "vscode": {
   "interpreter": {
    "hash": "07b65970afa07f727745fe4a3d3136cb8050d69ceb007a833478ffc2fc603ed6"
   }
  }
 },
 "nbformat": 4,
 "nbformat_minor": 2
}
