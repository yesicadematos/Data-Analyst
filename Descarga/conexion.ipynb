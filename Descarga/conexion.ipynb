{
 "cells": [
  {
   "cell_type": "code",
   "execution_count": 28,
   "metadata": {},
   "outputs": [],
   "source": [
    "import boto3\n",
    "from botocore.client import Config\n",
    "import pandas as pd \n",
    "import credenciales"
   ]
  },
  {
   "cell_type": "code",
   "execution_count": 29,
   "metadata": {},
   "outputs": [],
   "source": [
    "\"\"\"\n",
    "s3 = boto3.client('s3')\n",
    "\"\"\"\n",
    "cliente  = boto3.client( \n",
    "    's3' , \n",
    "    aws_access_key_id = credenciales.ACCESS_KEY , \n",
    "    aws_secret_access_key = credenciales.SECRET_KEY ,\n",
    ")"
   ]
  },
  {
   "cell_type": "code",
   "execution_count": 33,
   "metadata": {},
   "outputs": [],
   "source": [
    "path_data = '../{}'\n",
    "bucket = 'desafio-rkd'\n",
    "archivo1 = 'netflix_titles.csv'\n",
    "archivo2 = 'disney_plus_titles_data.csv'"
   ]
  },
  {
   "cell_type": "code",
   "execution_count": 31,
   "metadata": {},
   "outputs": [],
   "source": [
    "# file1 = cliente.download_file('desafio-rkd', 'netflix_titles.csv', 'netflix_titles_data.csv')\n",
    "# file2 = cliente.download_file('desafio-rkd', 'disney_plus_titles.csv', 'disney_plus_titles_data.csv')\n",
    "\n",
    "\n",
    "try:\n",
    "    cliente.download_file(bucket, archivo1, path_data.format('netflix_titles_data.csv',))\n",
    "except Exception as ex:\n",
    "    print('Error al descargar')\n",
    "    print(ex)"
   ]
  },
  {
   "cell_type": "code",
   "execution_count": 32,
   "metadata": {},
   "outputs": [],
   "source": [
    "try:\n",
    "    cliente.download_file(bucket, archivo1, path_data.format('disney_plus_titles_data.csv'))\n",
    "except Exception as ex:\n",
    "    print('Error al descargar')\n",
    "    print(ex)"
   ]
  }
 ],
 "metadata": {
  "kernelspec": {
   "display_name": "Python 3.10.6 ('venv': venv)",
   "language": "python",
   "name": "python3"
  },
  "language_info": {
   "codemirror_mode": {
    "name": "ipython",
    "version": 3
   },
   "file_extension": ".py",
   "mimetype": "text/x-python",
   "name": "python",
   "nbconvert_exporter": "python",
   "pygments_lexer": "ipython3",
   "version": "3.10.6"
  },
  "orig_nbformat": 4,
  "vscode": {
   "interpreter": {
    "hash": "aa28ae78e1701bc118f52d504503dc909c2a0b57365f2463e50fdbe5c1322d8f"
   }
  }
 },
 "nbformat": 4,
 "nbformat_minor": 2
}
