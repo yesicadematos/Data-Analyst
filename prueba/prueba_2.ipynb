{
 "cells": [
  {
   "cell_type": "code",
   "execution_count": null,
   "metadata": {},
   "outputs": [],
   "source": [
    "from datetime import datetime\n",
    "from cgitb import text\n",
    "import requests\n",
    "import json  \n",
    "import csv\n",
    "import pandas as pd\n",
    "url1 = \"https://datos.cultura.gob.ar/dataset/37305de4-3cce-4d4b-9d9a-fec3ca61d09f/resource/4207def0-2ff7-41d5-9095-d42ae8207a5d/download/museos_datosabiertos.csv\"\n",
    "url2 = \"https://datos.cultura.gob.ar/dataset/37305de4-3cce-4d4b-9d9a-fec3ca61d09f/resource/392ce1a8-ef11-4776-b280-6f1c7fae16ae/download/cine.csv\"\n",
    "url3 = \"https://datos.cultura.gob.ar/dataset/37305de4-3cce-4d4b-9d9a-fec3ca61d09f/resource/01c6c048-dbeb-44e0-8efa-6944f73715d7/download/biblioteca_popular.csv\"\n",
    "\n",
    "r = requests.get(url1)\n",
    "r = requests.get(url2)\n",
    "r = requests.get(url3)\n",
    "date= r.text\n",
    "\n",
    "\n",
    "print(date)"
   ]
  },
  {
   "cell_type": "code",
   "execution_count": null,
   "metadata": {},
   "outputs": [],
   "source": [
    "\n",
    "with open ('./biblioteca.csv', 'w+', encoding='UTF-8') as f :\n",
    "     f.write(date)\n",
    "df = pd.read_csv('./biblioteca.csv', sep=',')\n",
    "df.head()    \n",
    "\n",
    "with open ('./museos.csv', 'w+', encoding='UTF-8') as f :\n",
    "     f.write(date)\n",
    "df = pd.read_csv('./museos.csv', sep=',')\n",
    "df.head()\n",
    "\n",
    "with open ('./cines.csv', 'w+', encoding='UTF-8') as f :\n",
    "    f.write(date)\n",
    "df = pd.read_csv('./cines.csv', sep=',')\n",
    "df.head()"
   ]
  },
  {
   "cell_type": "code",
   "execution_count": 1,
   "metadata": {},
   "outputs": [
    {
     "ename": "NameError",
     "evalue": "name 'pd' is not defined",
     "output_type": "error",
     "traceback": [
      "\u001b[1;31m---------------------------------------------------------------------------\u001b[0m",
      "\u001b[1;31mNameError\u001b[0m                                 Traceback (most recent call last)",
      "\u001b[1;32mc:\\Users\\Yesica\\Documents\\challenge_data_analyst\\prueba\\prueba_2.ipynb Cell 3'\u001b[0m in \u001b[0;36m<cell line: 1>\u001b[1;34m()\u001b[0m\n\u001b[1;32m----> <a href='vscode-notebook-cell:/c%3A/Users/Yesica/Documents/challenge_data_analyst/prueba/prueba_2.ipynb#ch0000002?line=0'>1</a>\u001b[0m df \u001b[39m=\u001b[39m pd\u001b[39m.\u001b[39mread_csv(\u001b[39m'\u001b[39m\u001b[39m./cines.csv\u001b[39m\u001b[39m'\u001b[39m, sep\u001b[39m=\u001b[39m\u001b[39m'\u001b[39m\u001b[39m,\u001b[39m\u001b[39m'\u001b[39m)\n\u001b[0;32m      <a href='vscode-notebook-cell:/c%3A/Users/Yesica/Documents/challenge_data_analyst/prueba/prueba_2.ipynb#ch0000002?line=1'>2</a>\u001b[0m df\u001b[39m.\u001b[39mhead()\n",
      "\u001b[1;31mNameError\u001b[0m: name 'pd' is not defined"
     ]
    }
   ],
   "source": [
    "df = pd.read_csv('./cines.csv', sep=',')\n",
    "df.head()"
   ]
  },
  {
   "cell_type": "code",
   "execution_count": null,
   "metadata": {},
   "outputs": [],
   "source": [
    "df = pd.read_csv('./biblioteca.csv', sep=',')\n",
    "df.head() "
   ]
  }
 ],
 "metadata": {
  "kernelspec": {
   "display_name": "Python 3.9.13 64-bit ('venv': venv)",
   "language": "python",
   "name": "python3"
  },
  "language_info": {
   "codemirror_mode": {
    "name": "ipython",
    "version": 3
   },
   "file_extension": ".py",
   "mimetype": "text/x-python",
   "name": "python",
   "nbconvert_exporter": "python",
   "pygments_lexer": "ipython3",
   "version": "3.9.13"
  },
  "orig_nbformat": 4,
  "vscode": {
   "interpreter": {
    "hash": "786372040b23cbb4630f48942a042c104d35cdf8edd26785d86db41bdbab43e0"
   }
  }
 },
 "nbformat": 4,
 "nbformat_minor": 2
}
